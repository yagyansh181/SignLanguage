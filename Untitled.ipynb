{
 "cells": [
  {
   "cell_type": "markdown",
   "id": "e1a9b699",
   "metadata": {},
   "source": [
    "# IMAGE COLLECTION AND LABELLING"
   ]
  },
  {
   "cell_type": "code",
   "execution_count": 1,
   "id": "9188d485",
   "metadata": {},
   "outputs": [],
   "source": [
    "import cv2\n",
    "import os\n",
    "import time \n",
    "import uuid\n"
   ]
  },
  {
   "cell_type": "code",
   "execution_count": 2,
   "id": "a156c4dd",
   "metadata": {},
   "outputs": [],
   "source": [
    "IMAGES_PATH='desktop\\project\\RealTimeObjectDetection\\Tensorflow\\workspace\\images\\colls'"
   ]
  },
  {
   "cell_type": "code",
   "execution_count": 3,
   "id": "c4e5a853",
   "metadata": {},
   "outputs": [],
   "source": [
    "labels=['hello','no', 'yes', 'thanks', 'iloveyou']\n",
    "number_images=3"
   ]
  },
  {
   "cell_type": "code",
   "execution_count": 4,
   "id": "e9a2b23e",
   "metadata": {
    "scrolled": true
   },
   "outputs": [
    {
     "name": "stdout",
     "output_type": "stream",
     "text": [
      "collecting images for hello\n",
      "collecting images for no\n",
      "collecting images for yes\n",
      "collecting images for thanks\n",
      "collecting images for iloveyou\n"
     ]
    }
   ],
   "source": [
    "for label in labels:\n",
    "    !mkdir {IMAGES_PATH + label}\n",
    "    cap=cv2.VideoCapture(0)\n",
    "    print('collecting images for {}'.format(label))\n",
    "    time.sleep(5)\n",
    "    for imgnum in range(number_images):\n",
    "        ret , frame=cap.read()\n",
    "        imgname=os.path.join(IMAGES_PATH, label, label+'.|'+'{}.jpg'.format(str(uuid.uuid1())))\n",
    "        cv2.imwrite(imgname, frame)\n",
    "        cv2.imshow('frame', frame)\n",
    "        time.sleep(2)\n",
    "        \n",
    "        if cv2.waitKey(1)& 0xFF==ord('q'):\n",
    "            break\n",
    "    cap.release()\n",
    "                             "
   ]
  },
  {
   "cell_type": "code",
   "execution_count": null,
   "id": "5357eb9e",
   "metadata": {},
   "outputs": [],
   "source": []
  }
 ],
 "metadata": {
  "kernelspec": {
   "display_name": "Python 3",
   "language": "python",
   "name": "python3"
  },
  "language_info": {
   "codemirror_mode": {
    "name": "ipython",
    "version": 3
   },
   "file_extension": ".py",
   "mimetype": "text/x-python",
   "name": "python",
   "nbconvert_exporter": "python",
   "pygments_lexer": "ipython3",
   "version": "3.8.8"
  }
 },
 "nbformat": 4,
 "nbformat_minor": 5
}
